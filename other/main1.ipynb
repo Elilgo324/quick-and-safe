{
 "cells": [
  {
   "cell_type": "markdown",
   "metadata": {
    "collapsed": true,
    "pycharm": {
     "name": "#%% md\n"
    }
   },
   "source": [
    "# How to pass a threat?"
   ]
  },
  {
   "cell_type": "code",
   "execution_count": null,
   "outputs": [],
   "source": [
    "import math\n",
    "import random\n",
    "\n",
    "import networkx as nx\n",
    "\n",
    "from geometry.coord import Coord\n",
    "from shapely.geometry.point import Point\n",
    "from shapely.geometry.polygon import Polygon\n",
    "from algorithms.geometric import is_left_side_of_line\n",
    "from algorithms.planning import safest_path_single_threat, shortest_path_single_threat, single_threat_shortest_path_with_risk_constraint, single_threat_safest_path_with_length_constraint\n",
    "from geometry.circle import Circle\n",
    "import matplotlib.pyplot as plt\n",
    "from matplotlib.patches import Patch"
   ],
   "metadata": {
    "collapsed": false,
    "pycharm": {
     "name": "#%%\n"
    }
   }
  },
  {
   "cell_type": "code",
   "execution_count": null,
   "outputs": [],
   "source": [
    "plt.style.use('seaborn-whitegrid')\n",
    "font = 12\n",
    "title_font = 16\n",
    "suptitle_font = 18"
   ],
   "metadata": {
    "collapsed": false,
    "pycharm": {
     "name": "#%%\n"
    }
   }
  },
  {
   "cell_type": "markdown",
   "source": [
    "## check geometry utils"
   ],
   "metadata": {
    "collapsed": false,
    "pycharm": {
     "name": "#%% md\n"
    }
   }
  },
  {
   "cell_type": "code",
   "execution_count": null,
   "outputs": [],
   "source": [
    "# shift\n",
    "\n",
    "point = Coord(4,4)\n",
    "shifted_point = point.shift(distance=3, angle=3/4 * math.pi)\n",
    "plt.scatter(point.x, point.y, color='blue')\n",
    "plt.scatter(shifted_point.x, shifted_point.y, color='red')"
   ],
   "metadata": {
    "collapsed": false,
    "pycharm": {
     "name": "#%%\n"
    }
   }
  },
  {
   "cell_type": "code",
   "execution_count": null,
   "outputs": [],
   "source": [
    "# check point of contact\n",
    "\n",
    "center = Coord(5,5)\n",
    "radius = 3\n",
    "point1 = Coord(-2,6)\n",
    "point2 = Coord(8.3,1)\n",
    "\n",
    "c11, c12 = point1.contact_points_with_circle(center, radius)\n",
    "c21, c22 = point2.contact_points_with_circle(center, radius)\n",
    "\n",
    "plt.figure(figsize=(5,5))\n",
    "plt.title('contact calculation example', fontsize=title_font)\n",
    "plt.grid(True)\n",
    "plt.axis('equal')\n",
    "plt.plot(*center.buffer(radius).exterior.xy, color='blue', zorder=1)\n",
    "\n",
    "plt.scatter(point1.x, point1.y, color = 'orange', zorder=10)\n",
    "plt.scatter(c11.x, c11.y, color='orange', zorder=10)\n",
    "plt.scatter(c12.x, c12.y, color='orange', zorder=10)\n",
    "plt.plot([point1.x, c11.x], [point1.y, c11.y], color='orange', linestyle='dashed', zorder=10)\n",
    "plt.plot([point1.x, c12.x], [point1.y, c12.y], color='orange', linestyle='dashed', zorder=10)\n",
    "\n",
    "plt.scatter(point2.x, point2.y, color = 'red', zorder=10)\n",
    "plt.scatter(c21.x, c21.y, color='red', zorder=10)\n",
    "plt.scatter(c22.x, c22.y, color='red', zorder=10)\n",
    "plt.plot([point2.x, c21.x], [point2.y, c21.y], color='red', linestyle='dashed', zorder=10)\n",
    "plt.plot([point2.x, c22.x], [point2.y, c22.y], color='red', linestyle='dashed', zorder=10)"
   ],
   "metadata": {
    "collapsed": false,
    "pycharm": {
     "name": "#%%\n"
    }
   }
  },
  {
   "cell_type": "markdown",
   "source": [
    "# one threat"
   ],
   "metadata": {
    "collapsed": false,
    "pycharm": {
     "name": "#%% md\n"
    }
   }
  },
  {
   "cell_type": "markdown",
   "source": [
    "## shortest path with risk constraint"
   ],
   "metadata": {
    "collapsed": false,
    "pycharm": {
     "name": "#%% md\n"
    }
   }
  },
  {
   "cell_type": "code",
   "execution_count": null,
   "outputs": [],
   "source": [
    "# shortest path single threat\n",
    "\n",
    "source = Point(2,4)\n",
    "target = Point(5.5,4.5)\n",
    "threat = Threat(center=Point(4,4), radius=1)\n",
    "\n",
    "plt.figure(figsize=(10,5))\n",
    "plt.grid(True)\n",
    "plt.suptitle('single threat: shortest path with risk constraint', fontsize=suptitle_font)\n",
    "\n",
    "plt.subplot(1,2,1)\n",
    "plt.axis('equal')\n",
    "plt.title('shortest path when risk is sufficient', fontsize=font)\n",
    "plt.scatter(source.x, source.y, zorder=9)\n",
    "plt.scatter(target.x, target.y, zorder=9)\n",
    "threat.plot()\n",
    "plt.text(source.x - 0.1, source.y + 0.1, 'source', fontsize=font, zorder=10)\n",
    "plt.text(target.x - 0.2, target.y + 0.1, 'target', fontsize=font, zorder=10)\n",
    "path, length, risk = shortest_path_single_threat(source, target, threat)\n",
    "plt.text(3.0, 2.2, f'length {round(length,2)}, risk {round(risk,2)}', fontsize=font, zorder=10)\n",
    "plt.plot([p.x for p in path], [p.y for p in path], color='green', linestyle='dashed', zorder=5)\n",
    "plt.scatter([p.x for p in path], [p.y for p in path], color='green', zorder=5)\n",
    "\n",
    "plt.subplot(1,2,2)\n",
    "plt.axis('equal')\n",
    "plt.title('shortest path when save risk (parallel chord)', fontsize=font)\n",
    "plt.scatter(source.x, source.y, zorder=9)\n",
    "plt.scatter(target.x, target.y, zorder=9)\n",
    "threat.plot()\n",
    "plt.text(source.x - 0.1, source.y + 0.1, 'source', fontsize=font, zorder=10)\n",
    "plt.text(target.x - 0.2, target.y + 0.1, 'target', fontsize=font, zorder=10)\n",
    "path, length, risk = single_threat_shortest_path_with_risk_constraint(source, target, threat, risk_limit=1.4)\n",
    "plt.text(3.0, 2.2, f'length {round(length,2)}, risk {round(risk,2)}', fontsize=font, zorder=10)\n",
    "plt.plot([p.x for p in path], [p.y for p in path], color='green', linestyle='dashed', zorder=5)\n",
    "plt.scatter([p.x for p in path], [p.y for p in path], color='green', zorder=5)\n",
    "\n",
    "plt.savefig('../plots/shortest_one_threat.png')"
   ],
   "metadata": {
    "collapsed": false,
    "pycharm": {
     "name": "#%%\n"
    }
   }
  },
  {
   "cell_type": "markdown",
   "source": [
    "## safest path with length constraint"
   ],
   "metadata": {
    "collapsed": false,
    "pycharm": {
     "name": "#%% md\n"
    }
   }
  },
  {
   "cell_type": "code",
   "execution_count": null,
   "outputs": [],
   "source": [
    "# safest path single threat\n",
    "\n",
    "source = Point(2,4)\n",
    "target = Point(6,5)\n",
    "threat = Threat(center=Point(4,4), radius=1.5)\n",
    "\n",
    "plt.figure(figsize=(10,5))\n",
    "plt.grid(True)\n",
    "plt.suptitle('single threat: safest path with length constraint', fontsize=suptitle_font, y=1.03)\n",
    "\n",
    "plt.subplot(1,2,1)\n",
    "plt.axis('equal')\n",
    "plt.title('safest path when length is sufficient', fontsize=title_font)\n",
    "plt.scatter(source.x, source.y, zorder=9)\n",
    "plt.scatter(target.x, target.y, zorder=9)\n",
    "threat.plot()\n",
    "plt.text(source.x - 0.2, source.y - 0.3, 'source', fontsize=font, zorder=10)\n",
    "plt.text(target.x - 0.2, target.y - 0.3, 'target', fontsize=font, zorder=10)\n",
    "path, length, risk = safest_path_single_threat(source, target, threat)\n",
    "plt.text(3.1, 2.2, f'length {round(length,2)}, risk {round(risk,2)}', fontsize=font, zorder=10)\n",
    "plt.plot([p.x for p in path], [p.y for p in path], color='green', linestyle='dashed', zorder=5)\n",
    "plt.scatter([p.x for p in path], [p.y for p in path], color='green', zorder=5)\n",
    "\n",
    "plt.subplot(1,2,2)\n",
    "plt.axis('equal')\n",
    "plt.title('safest path when enter threat (parallel chord)', fontsize=title_font)\n",
    "plt.scatter(source.x, source.y, zorder=9)\n",
    "plt.scatter(target.x, target.y, zorder=9)\n",
    "threat.plot()\n",
    "plt.text(source.x - 0.2, source.y - 0.3, 'source', fontsize=font, zorder=10)\n",
    "plt.text(target.x - 0.2, target.y - 0.3, 'target', fontsize=font, zorder=10)\n",
    "path, length, risk = single_threat_safest_path_with_length_constraint(source, target, threat, 2)\n",
    "plt.text(3.1, 2.2, f'length {round(length,2)}, risk {round(risk,2)}', fontsize=font, zorder=10)\n",
    "\n",
    "plt.plot([p.x for p in path], [p.y for p in path], color='green', linestyle='dashed', zorder=5)\n",
    "plt.scatter([p.x for p in path], [p.y for p in path], color='green', zorder=5)\n",
    "\n",
    "plt.savefig('../plots/safest_one_threat.png')"
   ],
   "metadata": {
    "collapsed": false,
    "pycharm": {
     "name": "#%%\n"
    }
   }
  },
  {
   "cell_type": "code",
   "execution_count": null,
   "outputs": [],
   "source": [
    "source = Point(2,4.5)\n",
    "target = Point(16,3)\n",
    "threat = Threat(center=Point(4,4), radius=1.5)\n",
    "\n",
    "plt.figure(figsize=(10,5))\n",
    "plt.grid(True)\n",
    "plt.title('safest (or shortest) up to constraint not necessarily has parallel chord', fontsize=title_font)\n",
    "plt.axis('equal')\n",
    "\n",
    "plt.scatter(source.x, source.y, zorder=9)\n",
    "plt.scatter(target.x, target.y, zorder=9)\n",
    "threat.plot()\n",
    "plt.text(source.x - 0.2, source.y - 0.3, 'source', fontsize=font, zorder=10)\n",
    "plt.text(target.x - 0.2, target.y - 0.3, 'target', fontsize=font, zorder=10)\n",
    "path = [source, Point(2.65,3.45), Point(5.15,3.1), target]\n",
    "plt.plot([p.x for p in path], [p.y for p in path], color='green', linestyle='dashed', zorder=5)\n",
    "plt.scatter([p.x for p in path], [p.y for p in path], color='green', zorder=5)\n",
    "\n",
    "plt.savefig('../plots/safest_not_parallel.png')"
   ],
   "metadata": {
    "collapsed": false,
    "pycharm": {
     "name": "#%%\n"
    }
   }
  },
  {
   "cell_type": "markdown",
   "source": [
    "# multiple threats"
   ],
   "metadata": {
    "collapsed": false,
    "pycharm": {
     "name": "#%% md\n"
    }
   }
  },
  {
   "cell_type": "markdown",
   "source": [
    "## shortest path under risk constraint is NPH exactly like WCSP:\n",
    "## we can model any constraint by unit threats"
   ],
   "metadata": {
    "collapsed": false,
    "pycharm": {
     "name": "#%% md\n"
    }
   }
  },
  {
   "cell_type": "code",
   "execution_count": null,
   "outputs": [],
   "source": [
    "# modeling any constraint by unit threats\n",
    "\n",
    "source = Point(2,4)\n",
    "target = Point(6,5)\n",
    "polygon1 = Polygon([[10,10],[10,20],[30,25],[50,40],[70,70],[70,10]])\n",
    "polygon2 = Polygon([[20,50],[35,57],[30,40],[20,43]])\n",
    "\n",
    "plt.figure(figsize=(5,5))\n",
    "plt.grid(True)\n",
    "\n",
    "plt.xlim(0, 100)\n",
    "plt.ylim(0, 100)\n",
    "plt.axis('equal')\n",
    "plt.title('modeling constraint by arbitrary unit threats', fontsize=title_font)\n",
    "plt.plot(*polygon1.exterior.xy, color='blue')\n",
    "plt.plot(*polygon2.exterior.xy, color='blue')\n",
    "for r in range(100):\n",
    "    for c in range(100):\n",
    "        point = Point(r,c)\n",
    "        if polygon1.contains(point) or polygon2.contains(point):\n",
    "            threat = point.buffer(0.5)\n",
    "            plt.plot(*threat.exterior.xy, color='red')\n",
    "\n",
    "plt.legend(handles=[Patch(color='blue', label='constraint scoring zones'),\n",
    "                    Patch(color='red', label='arbitrary unit threats')],\n",
    "           fontsize=14, frameon=True, fancybox=True)\n",
    "plt.savefig('../plots/modeling_constraint_by_threats.png')"
   ],
   "metadata": {
    "collapsed": false,
    "pycharm": {
     "name": "#%%\n"
    }
   }
  },
  {
   "cell_type": "markdown",
   "source": [
    "## what about safest path under length constraint?"
   ],
   "metadata": {
    "collapsed": false,
    "pycharm": {
     "name": "#%% md\n"
    }
   }
  },
  {
   "cell_type": "code",
   "execution_count": null,
   "outputs": [],
   "source": [],
   "metadata": {
    "collapsed": false,
    "pycharm": {
     "name": "#%%\n"
    }
   }
  },
  {
   "cell_type": "code",
   "execution_count": null,
   "outputs": [],
   "source": [],
   "metadata": {
    "collapsed": false,
    "pycharm": {
     "name": "#%%\n"
    }
   }
  },
  {
   "cell_type": "code",
   "execution_count": null,
   "outputs": [],
   "source": [
    "path=[Coord(0.0,5.0)\n",
    ",Coord(340.87346743853334,91.26532561466679)\n",
    ",Coord(337.43870441962963,92.72725279754384)\n",
    ",Coord(330.04799698461727,95.37881251731136)\n",
    ", Coord(322.4720336562218,97.44233014123603)\n",
    ", Coord(314.75752276762626,98.90508339697709)\n",
    ", Coord(306.952026843794,99.7580539242981)\n",
    ", Coord(299.1036693626862,99.99598287625665)\n",
    ", Coord(291.26083805801767,99.61740334174449)\n",
    ",Coord(283.4718865927877,98.62464938948239)\n",
    ",Coord(275.7848364428686,97.0238416777102)\n",
    ",Coord(268.2470808286382,94.82484971829359)\n",
    ",Coord(500.0,20.000000000000007)]"
   ],
   "metadata": {
    "collapsed": false,
    "pycharm": {
     "name": "#%%\n"
    }
   }
  },
  {
   "cell_type": "code",
   "execution_count": null,
   "outputs": [],
   "source": [
    "for c1,c2 in zip(path[:-1], path[1:]):\n",
    "    plt.plot([c1.x, c2.x], [c1.y,c2.y])"
   ],
   "metadata": {
    "collapsed": false,
    "pycharm": {
     "name": "#%%\n"
    }
   }
  },
  {
   "cell_type": "code",
   "execution_count": null,
   "outputs": [],
   "source": [],
   "metadata": {
    "collapsed": false,
    "pycharm": {
     "name": "#%%\n"
    }
   }
  },
  {
   "cell_type": "code",
   "execution_count": null,
   "outputs": [],
   "source": [],
   "metadata": {
    "collapsed": false,
    "pycharm": {
     "name": "#%%\n"
    }
   }
  },
  {
   "cell_type": "code",
   "execution_count": 4,
   "outputs": [],
   "source": [
    "path=[Coord(0.0,5.0)\n",
    ",Coord(340.87346743853334,91.26532561466679)\n",
    ",Coord(337.43870441962963,92.72725279754384)\n",
    ",Coord(330.04799698461727,95.37881251731136)\n",
    ", Coord(322.4720336562218,97.44233014123603)\n",
    ", Coord(314.75752276762626,98.90508339697709)\n",
    ", Coord(306.952026843794,99.7580539242981)\n",
    ", Coord(299.1036693626862,99.99598287625665)\n",
    ", Coord(291.26083805801767,99.61740334174449)\n",
    ",Coord(283.4718865927877,98.62464938948239)\n",
    ",Coord(275.7848364428686,97.0238416777102)\n",
    ",Coord(268.2470808286382,94.82484971829359)\n",
    ",Coord(500.0,20.000000000000007)]"
   ],
   "metadata": {
    "collapsed": false,
    "pycharm": {
     "name": "#%%\n"
    }
   }
  },
  {
   "cell_type": "code",
   "execution_count": 5,
   "outputs": [
    {
     "data": {
      "text/plain": "<Figure size 640x480 with 1 Axes>",
      "image/png": "[encoded data removed]"
     },
     "metadata": {},
     "output_type": "display_data"
    }
   ],
   "source": [
    "for c1,c2 in zip(path[:-1], path[1:]):\n",
    "    plt.plot([c1.x, c2.x], [c1.y,c2.y])"
   ],
   "metadata": {
    "collapsed": false,
    "pycharm": {
     "name": "#%%\n"
    }
   }
  },
  {
   "cell_type": "code",
   "execution_count": null,
   "outputs": [],
   "source": [],
   "metadata": {
    "collapsed": false,
    "pycharm": {
     "name": "#%%\n"
    }
   }
  },
  {
   "cell_type": "code",
   "execution_count": 10,
   "outputs": [],
   "source": [
    "import random\n",
    "import matplotlib.pyplot as plt"
   ],
   "metadata": {
    "collapsed": false,
    "pycharm": {
     "name": "#%%\n"
    }
   }
  },
  {
   "cell_type": "code",
   "execution_count": 18,
   "outputs": [],
   "source": [
    "def exp():\n",
    "    price = 0\n",
    "    prices = [price]\n",
    "    for _ in range(1000):\n",
    "        rand_12 = random.randint(1,2)\n",
    "        if rand_12 == 1:\n",
    "            price -= 1\n",
    "        else:\n",
    "            price += 1\n",
    "        prices.append(price)\n",
    "\n",
    "    return max(range(len(prices)), key=lambda idx: prices[idx])"
   ],
   "metadata": {
    "collapsed": false,
    "pycharm": {
     "name": "#%%\n"
    }
   }
  },
  {
   "cell_type": "code",
   "execution_count": 19,
   "outputs": [],
   "source": [
    "max_idx_counts = [0 for _ in range(1001)]"
   ],
   "metadata": {
    "collapsed": false,
    "pycharm": {
     "name": "#%%\n"
    }
   }
  },
  {
   "cell_type": "code",
   "execution_count": 20,
   "outputs": [],
   "source": [
    "for _ in range(10_000):\n",
    "    max_idx_counts[exp()] += 1"
   ],
   "metadata": {
    "collapsed": false,
    "pycharm": {
     "name": "#%%\n"
    }
   }
  },
  {
   "cell_type": "code",
   "execution_count": 21,
   "outputs": [
    {
     "data": {
      "text/plain": "[259, 128, 79, 62, 46, 45, 34, 43, 41, 35]"
     },
     "execution_count": 21,
     "metadata": {},
     "output_type": "execute_result"
    }
   ],
   "source": [
    "max_idx_counts[:10]"
   ],
   "metadata": {
    "collapsed": false,
    "pycharm": {
     "name": "#%%\n"
    }
   }
  },
  {
   "cell_type": "code",
   "execution_count": 22,
   "outputs": [
    {
     "data": {
      "text/plain": "[<matplotlib.lines.Line2D at 0x2602a213bb0>]"
     },
     "execution_count": 22,
     "metadata": {},
     "output_type": "execute_result"
    },
    {
     "data": {
      "text/plain": "<Figure size 640x480 with 1 Axes>",
      "image/png": "[encoded data removed]"
     },
     "metadata": {},
     "output_type": "display_data"
    }
   ],
   "source": [
    "plt.plot(range(1001), max_idx_counts)"
   ],
   "metadata": {
    "collapsed": false,
    "pycharm": {
     "name": "#%%\n"
    }
   }
  },
  {
   "cell_type": "code",
   "execution_count": 17,
   "outputs": [
    {
     "data": {
      "text/plain": "[<matplotlib.lines.Line2D at 0x2602a19e1f0>]"
     },
     "execution_count": 17,
     "metadata": {},
     "output_type": "execute_result"
    },
    {
     "data": {
      "text/plain": "<Figure size 640x480 with 1 Axes>",
      "image/png": "[encoded data removed]"
     },
     "metadata": {},
     "output_type": "display_data"
    }
   ],
   "source": [
    "plt.plot(range(1001), max_idx_counts)"
   ],
   "metadata": {
    "collapsed": false,
    "pycharm": {
     "name": "#%%\n"
    }
   }
  },
  {
   "cell_type": "code",
   "execution_count": 24,
   "outputs": [],
   "source": [
    "import networkx as nx\n",
    "g = nx.DiGraph()"
   ],
   "metadata": {
    "collapsed": false,
    "pycharm": {
     "name": "#%%\n"
    }
   }
  },
  {
   "cell_type": "code",
   "execution_count": null,
   "outputs": [],
   "source": [
    "source = (0,10)\n",
    "target = (30, 10)\n",
    "\n",
    "low_nodes = [(i, 5) for i in range(1, 30)]\n",
    "high_nodes = [(i, 15) for i in range(1, 30)]\n",
    "\n",
    "g.add_edge(source, low_nodes[0])\n",
    "g.add_edge(target, high_nodes[0])\n",
    "\n",
    "for i in range(1, 28):\n",
    "    g.add_edge(low_nodes[i], high_nodes[i])\n",
    "    g.add_edge(high_nodes[i], low_nodes[i])\n",
    "\n",
    "i = 29\n",
    "g.add_edge(low_nodes[i], high_nodes[i])\n",
    "g.add_edge(high_nodes[i], low_nodes[i])\n",
    "\n",
    "g.add_edge(low_nodes[29], target)\n",
    "g.add_edge(high_nodes[29], target)"
   ],
   "metadata": {
    "collapsed": false,
    "pycharm": {
     "name": "#%%\n"
    }
   }
  },
  {
   "cell_type": "code",
   "execution_count": null,
   "outputs": [],
   "source": [],
   "metadata": {
    "collapsed": false,
    "pycharm": {
     "name": "#%%\n"
    }
   }
  },
  {
   "cell_type": "code",
   "execution_count": null,
   "outputs": [],
   "source": [],
   "metadata": {
    "collapsed": false,
    "pycharm": {
     "name": "#%%\n"
    }
   }
  }
 ],
 "metadata": {
  "kernelspec": {
   "display_name": "Python 3",
   "language": "python",
   "name": "python3"
  },
  "language_info": {
   "codemirror_mode": {
    "name": "ipython",
    "version": 2
   },
   "file_extension": ".py",
   "mimetype": "text/x-python",
   "name": "python",
   "nbconvert_exporter": "python",
   "pygments_lexer": "ipython2",
   "version": "2.7.6"
  }
 },
 "nbformat": 4,
 "nbformat_minor": 0
}
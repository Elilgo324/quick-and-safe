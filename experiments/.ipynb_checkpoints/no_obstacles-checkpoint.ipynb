{
 "cells": [
  {
   "cell_type": "code",
   "execution_count": 12,
   "metadata": {
    "ExecuteTime": {
     "end_time": "2023-11-02T20:15:45.351184Z",
     "start_time": "2023-11-02T20:15:42.717566Z"
    }
   },
   "outputs": [],
   "source": [
    "import pandas as pd\n",
    "import os\n",
    "\n",
    "os.chdir('/Users/ori.fogler/PycharmProjects/quick-and-safe')\n",
    "\n",
    "import random\n",
    "import time\n",
    "from tqdm import tqdm\n",
    "from geometry.coord import Coord\n",
    "from geometry.circle import Circle\n",
    "import matplotlib.pyplot as plt\n",
    "from algorithms.multiple_threats import multiple_threats_shortest_path_with_budget_constraint_given_order_and_budgets\n",
    "from algorithms.layers import rrg_layers_multiple_threats_shortest_path_with_budget_constraint\n",
    "from algorithms.layers import exaustive_layers_multiple_threats_shortest_path_with_budget_constraint\n",
    "from algorithms.genetic import genetic_multiple_threats_shortest_path_with_budget_constraint\n",
    "\n",
    "os.chdir('/Users/ori.fogler/PycharmProjects/quick-and-safe/experiments')"
   ]
  },
  {
   "cell_type": "code",
   "execution_count": 9,
   "metadata": {
    "ExecuteTime": {
     "end_time": "2023-11-02T20:17:10.669016Z",
     "start_time": "2023-11-02T20:17:09.726548Z"
    },
    "collapsed": false,
    "jupyter": {
     "outputs_hidden": false
    }
   },
   "outputs": [
    {
     "name": "stdout",
     "output_type": "stream",
     "text": [
      "running analytical algorithm\n"
     ]
    },
    {
     "data": {
      "image/png": "[encoded data removed]",
      "text/plain": [
       "<Figure size 640x480 with 1 Axes>"
      ]
     },
     "metadata": {},
     "output_type": "display_data"
    }
   ],
   "source": [
    "random.seed(40)\n",
    "\n",
    "x_lim = 1000\n",
    "y_lim = 500\n",
    "num_circles = 6 + 1\n",
    "\n",
    "source = Coord(50, 250)\n",
    "target = Coord(950, 250)\n",
    "\n",
    "split_lines = list(range(55, 950, int(x_lim / num_circles)))\n",
    "\n",
    "circles = []\n",
    "for split1, split2 in zip(split_lines[:-1], split_lines[1:]):\n",
    "    c_x  = (split1 + split2) / 2\n",
    "    c_y = 250 + random.randint(-100, 100)\n",
    "    c_r = random.randint(50, int(0.9 * min([c_x - split1, split2 - c_x, y_lim - c_y, c_y])))\n",
    "    circles.append(Circle(center=Coord(c_x, c_y), radius=c_r))\n",
    "\n",
    "budget = 200\n",
    "\n",
    "sum_of_radii = sum([c.radius for c in circles])\n",
    "alphas = [c.radius / sum_of_radii for c in circles]\n",
    "path, length, risk = multiple_threats_shortest_path_with_budget_constraint_given_order_and_budgets(source, target, circles, budget=budget, alphas=alphas)\n",
    "\n",
    "plt.gca().set_aspect('equal', adjustable='box')\n",
    "source.plot()\n",
    "target.plot()\n",
    "for circle in circles:\n",
    "    circle.plot()\n",
    "\n",
    "path.plot()\n",
    "plt.show()"
   ]
  },
  {
   "cell_type": "code",
   "execution_count": 56,
   "metadata": {
    "ExecuteTime": {
     "end_time": "2023-11-02T22:01:31.811579Z",
     "start_time": "2023-11-02T21:06:04.422398Z"
    },
    "collapsed": false,
    "jupyter": {
     "outputs_hidden": false
    }
   },
   "outputs": [
    {
     "name": "stdout",
     "output_type": "stream",
     "text": [
      "running for seed 0\n",
      "running analytical algorithm\n",
      "running analytical algorithm\n",
      "running exaustive algorithm\n"
     ]
    },
    {
     "name": "stderr",
     "output_type": "stream",
     "text": [
      "100%|██████████| 100/100 [00:00<00:00, 1010.58it/s]\n"
     ]
    },
    {
     "name": "stdout",
     "output_type": "stream",
     "text": [
      "running layers algorithm\n"
     ]
    },
    {
     "name": "stderr",
     "output_type": "stream",
     "text": [
      "100%|██████████| 2000/2000 [00:25<00:00, 78.03it/s]\n",
      "100%|██████████| 100/100 [00:00<00:00, 279.14it/s]\n"
     ]
    },
    {
     "name": "stdout",
     "output_type": "stream",
     "text": [
      "running for seed 1\n",
      "running analytical algorithm\n",
      "running analytical algorithm\n",
      "running exaustive algorithm\n"
     ]
    },
    {
     "name": "stderr",
     "output_type": "stream",
     "text": [
      "100%|██████████| 100/100 [00:00<00:00, 3585.24it/s]\n"
     ]
    },
    {
     "name": "stdout",
     "output_type": "stream",
     "text": [
      "running layers algorithm\n"
     ]
    },
    {
     "name": "stderr",
     "output_type": "stream",
     "text": [
      "100%|██████████| 2000/2000 [00:25<00:00, 77.62it/s]\n",
      "100%|██████████| 100/100 [00:00<00:00, 289.58it/s]\n"
     ]
    },
    {
     "name": "stdout",
     "output_type": "stream",
     "text": [
      "running for seed 2\n",
      "running analytical algorithm\n",
      "running analytical algorithm\n",
      "running exaustive algorithm\n"
     ]
    },
    {
     "name": "stderr",
     "output_type": "stream",
     "text": [
      "100%|██████████| 100/100 [00:00<00:00, 3466.94it/s]\n"
     ]
    },
    {
     "name": "stdout",
     "output_type": "stream",
     "text": [
      "running layers algorithm\n"
     ]
    },
    {
     "name": "stderr",
     "output_type": "stream",
     "text": [
      "100%|██████████| 2000/2000 [00:26<00:00, 75.95it/s]\n",
      "100%|██████████| 100/100 [00:00<00:00, 220.69it/s]\n"
     ]
    },
    {
     "name": "stdout",
     "output_type": "stream",
     "text": [
      "running for seed 3\n",
      "running analytical algorithm\n",
      "running analytical algorithm\n",
      "running exaustive algorithm\n"
     ]
    },
    {
     "name": "stderr",
     "output_type": "stream",
     "text": [
      "100%|██████████| 100/100 [00:00<00:00, 3418.23it/s]\n"
     ]
    },
    {
     "name": "stdout",
     "output_type": "stream",
     "text": [
      "running layers algorithm\n"
     ]
    },
    {
     "name": "stderr",
     "output_type": "stream",
     "text": [
      "100%|██████████| 2000/2000 [00:26<00:00, 76.24it/s]\n",
      "100%|██████████| 100/100 [00:00<00:00, 294.75it/s]\n"
     ]
    },
    {
     "name": "stdout",
     "output_type": "stream",
     "text": [
      "running for seed 4\n",
      "running analytical algorithm\n",
      "running analytical algorithm\n",
      "running exaustive algorithm\n"
     ]
    },
    {
     "name": "stderr",
     "output_type": "stream",
     "text": [
      "100%|██████████| 100/100 [00:00<00:00, 3480.66it/s]\n"
     ]
    },
    {
     "name": "stdout",
     "output_type": "stream",
     "text": [
      "running layers algorithm\n"
     ]
    },
    {
     "name": "stderr",
     "output_type": "stream",
     "text": [
      "100%|██████████| 2000/2000 [00:26<00:00, 76.74it/s]\n",
      "100%|██████████| 100/100 [00:00<00:00, 310.45it/s]\n"
     ]
    },
    {
     "name": "stdout",
     "output_type": "stream",
     "text": [
      "running for seed 5\n",
      "running analytical algorithm\n",
      "running analytical algorithm\n",
      "running exaustive algorithm\n"
     ]
    },
    {
     "name": "stderr",
     "output_type": "stream",
     "text": [
      "100%|██████████| 100/100 [00:00<00:00, 3562.56it/s]\n"
     ]
    },
    {
     "name": "stdout",
     "output_type": "stream",
     "text": [
      "running layers algorithm\n"
     ]
    },
    {
     "name": "stderr",
     "output_type": "stream",
     "text": [
      "100%|██████████| 2000/2000 [00:26<00:00, 76.77it/s]\n",
      "100%|██████████| 100/100 [00:00<00:00, 299.54it/s]\n"
     ]
    },
    {
     "name": "stdout",
     "output_type": "stream",
     "text": [
      "running for seed 6\n",
      "running analytical algorithm\n",
      "running analytical algorithm\n",
      "running exaustive algorithm\n"
     ]
    },
    {
     "name": "stderr",
     "output_type": "stream",
     "text": [
      "100%|██████████| 100/100 [00:00<00:00, 3373.15it/s]\n"
     ]
    },
    {
     "name": "stdout",
     "output_type": "stream",
     "text": [
      "running layers algorithm\n"
     ]
    },
    {
     "name": "stderr",
     "output_type": "stream",
     "text": [
      "100%|██████████| 2000/2000 [00:26<00:00, 76.31it/s]\n",
      "100%|██████████| 100/100 [00:00<00:00, 305.62it/s]\n"
     ]
    },
    {
     "name": "stdout",
     "output_type": "stream",
     "text": [
      "running for seed 7\n",
      "running analytical algorithm\n",
      "running analytical algorithm\n",
      "running exaustive algorithm\n"
     ]
    },
    {
     "name": "stderr",
     "output_type": "stream",
     "text": [
      "100%|██████████| 100/100 [00:00<00:00, 3538.33it/s]\n"
     ]
    },
    {
     "name": "stdout",
     "output_type": "stream",
     "text": [
      "running layers algorithm\n"
     ]
    },
    {
     "name": "stderr",
     "output_type": "stream",
     "text": [
      "100%|██████████| 2000/2000 [01:25<00:00, 23.45it/s]\n",
      "100%|██████████| 100/100 [00:00<00:00, 258.55it/s]\n"
     ]
    },
    {
     "name": "stdout",
     "output_type": "stream",
     "text": [
      "running for seed 8\n",
      "running analytical algorithm\n",
      "running analytical algorithm\n",
      "running exaustive algorithm\n"
     ]
    },
    {
     "name": "stderr",
     "output_type": "stream",
     "text": [
      "100%|██████████| 100/100 [00:00<00:00, 3526.70it/s]\n"
     ]
    },
    {
     "name": "stdout",
     "output_type": "stream",
     "text": [
      "running layers algorithm\n"
     ]
    },
    {
     "name": "stderr",
     "output_type": "stream",
     "text": [
      "100%|██████████| 2000/2000 [00:26<00:00, 76.58it/s]\n",
      "100%|██████████| 100/100 [00:00<00:00, 299.67it/s]\n"
     ]
    },
    {
     "name": "stdout",
     "output_type": "stream",
     "text": [
      "running for seed 9\n",
      "running analytical algorithm\n",
      "running analytical algorithm\n",
      "running exaustive algorithm\n"
     ]
    },
    {
     "name": "stderr",
     "output_type": "stream",
     "text": [
      "100%|██████████| 100/100 [00:00<00:00, 3464.79it/s]\n"
     ]
    },
    {
     "name": "stdout",
     "output_type": "stream",
     "text": [
      "running layers algorithm\n"
     ]
    },
    {
     "name": "stderr",
     "output_type": "stream",
     "text": [
      "100%|██████████| 2000/2000 [00:26<00:00, 75.22it/s]\n",
      "100%|██████████| 100/100 [00:00<00:00, 291.03it/s]\n"
     ]
    },
    {
     "name": "stdout",
     "output_type": "stream",
     "text": [
      "running for seed 10\n",
      "running analytical algorithm\n",
      "running analytical algorithm\n",
      "running exaustive algorithm\n"
     ]
    },
    {
     "name": "stderr",
     "output_type": "stream",
     "text": [
      "100%|██████████| 100/100 [00:00<00:00, 3178.66it/s]\n"
     ]
    },
    {
     "name": "stdout",
     "output_type": "stream",
     "text": [
      "running layers algorithm\n"
     ]
    },
    {
     "name": "stderr",
     "output_type": "stream",
     "text": [
      "100%|██████████| 2000/2000 [00:26<00:00, 76.33it/s]\n",
      "100%|██████████| 100/100 [00:00<00:00, 291.67it/s]\n"
     ]
    },
    {
     "name": "stdout",
     "output_type": "stream",
     "text": [
      "running for seed 11\n",
      "running analytical algorithm\n",
      "running analytical algorithm\n",
      "running exaustive algorithm\n"
     ]
    },
    {
     "name": "stderr",
     "output_type": "stream",
     "text": [
      "100%|██████████| 100/100 [00:00<00:00, 3503.72it/s]\n"
     ]
    },
    {
     "name": "stdout",
     "output_type": "stream",
     "text": [
      "running layers algorithm\n"
     ]
    },
    {
     "name": "stderr",
     "output_type": "stream",
     "text": [
      "100%|██████████| 2000/2000 [00:26<00:00, 76.20it/s]\n",
      "100%|██████████| 100/100 [00:00<00:00, 266.93it/s]\n"
     ]
    },
    {
     "name": "stdout",
     "output_type": "stream",
     "text": [
      "running for seed 12\n",
      "running analytical algorithm\n",
      "running analytical algorithm\n",
      "running exaustive algorithm\n"
     ]
    },
    {
     "name": "stderr",
     "output_type": "stream",
     "text": [
      "100%|██████████| 100/100 [00:00<00:00, 3502.02it/s]\n"
     ]
    },
    {
     "name": "stdout",
     "output_type": "stream",
     "text": [
      "running layers algorithm\n"
     ]
    },
    {
     "name": "stderr",
     "output_type": "stream",
     "text": [
      "100%|██████████| 2000/2000 [00:26<00:00, 76.75it/s]\n",
      "100%|██████████| 100/100 [00:00<00:00, 303.02it/s]\n"
     ]
    },
    {
     "name": "stdout",
     "output_type": "stream",
     "text": [
      "running for seed 13\n",
      "running analytical algorithm\n",
      "running analytical algorithm\n",
      "running exaustive algorithm\n"
     ]
    },
    {
     "name": "stderr",
     "output_type": "stream",
     "text": [
      "100%|██████████| 100/100 [00:00<00:00, 3535.44it/s]\n"
     ]
    },
    {
     "name": "stdout",
     "output_type": "stream",
     "text": [
      "running layers algorithm\n"
     ]
    },
    {
     "name": "stderr",
     "output_type": "stream",
     "text": [
      "100%|██████████| 2000/2000 [00:25<00:00, 78.11it/s]\n",
      "100%|██████████| 100/100 [00:00<00:00, 307.19it/s]\n"
     ]
    },
    {
     "name": "stdout",
     "output_type": "stream",
     "text": [
      "running for seed 14\n",
      "running analytical algorithm\n",
      "running analytical algorithm\n",
      "running exaustive algorithm\n"
     ]
    },
    {
     "name": "stderr",
     "output_type": "stream",
     "text": [
      "100%|██████████| 100/100 [00:00<00:00, 3203.47it/s]\n"
     ]
    },
    {
     "name": "stdout",
     "output_type": "stream",
     "text": [
      "running layers algorithm\n"
     ]
    },
    {
     "name": "stderr",
     "output_type": "stream",
     "text": [
      "100%|██████████| 2000/2000 [00:26<00:00, 75.00it/s]\n",
      "100%|██████████| 100/100 [00:00<00:00, 267.59it/s]\n"
     ]
    },
    {
     "name": "stdout",
     "output_type": "stream",
     "text": [
      "running for seed 15\n",
      "running analytical algorithm\n",
      "running analytical algorithm\n",
      "running exaustive algorithm\n"
     ]
    },
    {
     "name": "stderr",
     "output_type": "stream",
     "text": [
      "100%|██████████| 100/100 [00:00<00:00, 3408.09it/s]\n"
     ]
    },
    {
     "name": "stdout",
     "output_type": "stream",
     "text": [
      "running layers algorithm\n"
     ]
    },
    {
     "name": "stderr",
     "output_type": "stream",
     "text": [
      "100%|██████████| 2000/2000 [00:26<00:00, 76.35it/s]\n",
      "100%|██████████| 100/100 [00:00<00:00, 282.31it/s]\n"
     ]
    },
    {
     "name": "stdout",
     "output_type": "stream",
     "text": [
      "running for seed 16\n",
      "running analytical algorithm\n",
      "running analytical algorithm\n",
      "running exaustive algorithm\n"
     ]
    },
    {
     "name": "stderr",
     "output_type": "stream",
     "text": [
      "100%|██████████| 100/100 [00:00<00:00, 3326.01it/s]\n"
     ]
    },
    {
     "name": "stdout",
     "output_type": "stream",
     "text": [
      "running layers algorithm\n"
     ]
    },
    {
     "name": "stderr",
     "output_type": "stream",
     "text": [
      "100%|██████████| 2000/2000 [00:26<00:00, 76.28it/s]\n",
      "100%|██████████| 100/100 [00:00<00:00, 299.96it/s]\n"
     ]
    },
    {
     "name": "stdout",
     "output_type": "stream",
     "text": [
      "running for seed 17\n",
      "running analytical algorithm\n",
      "running analytical algorithm\n",
      "running exaustive algorithm\n"
     ]
    },
    {
     "name": "stderr",
     "output_type": "stream",
     "text": [
      "100%|██████████| 100/100 [00:00<00:00, 3288.72it/s]\n"
     ]
    },
    {
     "name": "stdout",
     "output_type": "stream",
     "text": [
      "running layers algorithm\n"
     ]
    },
    {
     "name": "stderr",
     "output_type": "stream",
     "text": [
      "100%|██████████| 2000/2000 [00:26<00:00, 74.91it/s]\n",
      "100%|██████████| 100/100 [00:00<00:00, 296.42it/s]\n"
     ]
    },
    {
     "name": "stdout",
     "output_type": "stream",
     "text": [
      "running for seed 18\n",
      "running analytical algorithm\n",
      "running analytical algorithm\n",
      "running exaustive algorithm\n"
     ]
    },
    {
     "name": "stderr",
     "output_type": "stream",
     "text": [
      "100%|██████████| 100/100 [00:00<00:00, 3349.07it/s]\n"
     ]
    },
    {
     "name": "stdout",
     "output_type": "stream",
     "text": [
      "running layers algorithm\n"
     ]
    },
    {
     "name": "stderr",
     "output_type": "stream",
     "text": [
      "100%|██████████| 2000/2000 [00:26<00:00, 76.11it/s]\n",
      "100%|██████████| 100/100 [00:00<00:00, 311.31it/s]\n"
     ]
    },
    {
     "name": "stdout",
     "output_type": "stream",
     "text": [
      "running for seed 19\n",
      "running analytical algorithm\n",
      "running analytical algorithm\n",
      "running exaustive algorithm\n"
     ]
    },
    {
     "name": "stderr",
     "output_type": "stream",
     "text": [
      "100%|██████████| 100/100 [00:00<00:00, 3429.13it/s]\n"
     ]
    },
    {
     "name": "stdout",
     "output_type": "stream",
     "text": [
      "running layers algorithm\n"
     ]
    },
    {
     "name": "stderr",
     "output_type": "stream",
     "text": [
      "100%|██████████| 2000/2000 [00:25<00:00, 77.45it/s]\n",
      "100%|██████████| 100/100 [00:00<00:00, 323.16it/s]\n"
     ]
    },
    {
     "name": "stdout",
     "output_type": "stream",
     "text": [
      "running for seed 20\n",
      "running analytical algorithm\n",
      "running analytical algorithm\n",
      "running exaustive algorithm\n"
     ]
    },
    {
     "name": "stderr",
     "output_type": "stream",
     "text": [
      "100%|██████████| 100/100 [00:00<00:00, 3296.50it/s]\n"
     ]
    },
    {
     "name": "stdout",
     "output_type": "stream",
     "text": [
      "running layers algorithm\n"
     ]
    },
    {
     "name": "stderr",
     "output_type": "stream",
     "text": [
      "100%|██████████| 2000/2000 [00:26<00:00, 76.25it/s]\n",
      "100%|██████████| 100/100 [00:00<00:00, 305.22it/s]\n"
     ]
    },
    {
     "name": "stdout",
     "output_type": "stream",
     "text": [
      "running for seed 21\n",
      "running analytical algorithm\n",
      "running analytical algorithm\n",
      "running exaustive algorithm\n"
     ]
    },
    {
     "name": "stderr",
     "output_type": "stream",
     "text": [
      "100%|██████████| 100/100 [00:00<00:00, 3485.87it/s]\n"
     ]
    },
    {
     "name": "stdout",
     "output_type": "stream",
     "text": [
      "running layers algorithm\n"
     ]
    },
    {
     "name": "stderr",
     "output_type": "stream",
     "text": [
      "100%|██████████| 2000/2000 [00:26<00:00, 76.76it/s]\n",
      "100%|██████████| 100/100 [00:00<00:00, 301.31it/s]\n"
     ]
    },
    {
     "name": "stdout",
     "output_type": "stream",
     "text": [
      "running for seed 22\n",
      "running analytical algorithm\n",
      "running analytical algorithm\n",
      "running exaustive algorithm\n"
     ]
    },
    {
     "name": "stderr",
     "output_type": "stream",
     "text": [
      "100%|██████████| 100/100 [00:00<00:00, 3435.70it/s]\n"
     ]
    },
    {
     "name": "stdout",
     "output_type": "stream",
     "text": [
      "running layers algorithm\n"
     ]
    },
    {
     "name": "stderr",
     "output_type": "stream",
     "text": [
      "100%|██████████| 2000/2000 [00:26<00:00, 75.88it/s]\n",
      "100%|██████████| 100/100 [00:00<00:00, 308.26it/s]\n"
     ]
    },
    {
     "name": "stdout",
     "output_type": "stream",
     "text": [
      "running for seed 23\n",
      "running analytical algorithm\n",
      "running analytical algorithm\n",
      "running exaustive algorithm\n"
     ]
    },
    {
     "name": "stderr",
     "output_type": "stream",
     "text": [
      "100%|██████████| 100/100 [00:00<00:00, 3310.50it/s]\n"
     ]
    },
    {
     "name": "stdout",
     "output_type": "stream",
     "text": [
      "running layers algorithm\n"
     ]
    },
    {
     "name": "stderr",
     "output_type": "stream",
     "text": [
      "100%|██████████| 2000/2000 [00:26<00:00, 76.38it/s]\n",
      "100%|██████████| 100/100 [00:00<00:00, 230.51it/s]\n"
     ]
    },
    {
     "name": "stdout",
     "output_type": "stream",
     "text": [
      "running for seed 24\n",
      "running analytical algorithm\n",
      "running analytical algorithm\n",
      "running exaustive algorithm\n"
     ]
    },
    {
     "name": "stderr",
     "output_type": "stream",
     "text": [
      "100%|██████████| 100/100 [00:00<00:00, 3436.43it/s]\n"
     ]
    },
    {
     "name": "stdout",
     "output_type": "stream",
     "text": [
      "running layers algorithm\n"
     ]
    },
    {
     "name": "stderr",
     "output_type": "stream",
     "text": [
      "100%|██████████| 2000/2000 [00:26<00:00, 76.22it/s]\n",
      "100%|██████████| 100/100 [00:00<00:00, 289.76it/s]\n"
     ]
    },
    {
     "name": "stdout",
     "output_type": "stream",
     "text": [
      "running for seed 25\n",
      "running analytical algorithm\n",
      "running analytical algorithm\n",
      "running exaustive algorithm\n"
     ]
    },
    {
     "name": "stderr",
     "output_type": "stream",
     "text": [
      "100%|██████████| 100/100 [00:00<00:00, 3461.05it/s]\n"
     ]
    },
    {
     "name": "stdout",
     "output_type": "stream",
     "text": [
      "running layers algorithm\n"
     ]
    },
    {
     "name": "stderr",
     "output_type": "stream",
     "text": [
      "100%|██████████| 2000/2000 [00:26<00:00, 75.69it/s]\n",
      "100%|██████████| 100/100 [00:00<00:00, 301.95it/s]\n"
     ]
    },
    {
     "name": "stdout",
     "output_type": "stream",
     "text": [
      "running for seed 26\n",
      "running analytical algorithm\n",
      "running analytical algorithm\n",
      "running exaustive algorithm\n"
     ]
    },
    {
     "name": "stderr",
     "output_type": "stream",
     "text": [
      "100%|██████████| 100/100 [00:00<00:00, 3290.66it/s]\n"
     ]
    },
    {
     "name": "stdout",
     "output_type": "stream",
     "text": [
      "running layers algorithm\n"
     ]
    },
    {
     "name": "stderr",
     "output_type": "stream",
     "text": [
      "100%|██████████| 2000/2000 [00:26<00:00, 75.47it/s]\n",
      "100%|██████████| 100/100 [00:00<00:00, 301.62it/s]\n"
     ]
    },
    {
     "name": "stdout",
     "output_type": "stream",
     "text": [
      "running for seed 27\n",
      "running analytical algorithm\n",
      "running analytical algorithm\n",
      "running exaustive algorithm\n"
     ]
    },
    {
     "name": "stderr",
     "output_type": "stream",
     "text": [
      "100%|██████████| 100/100 [00:00<00:00, 3489.52it/s]\n"
     ]
    },
    {
     "name": "stdout",
     "output_type": "stream",
     "text": [
      "running layers algorithm\n"
     ]
    },
    {
     "name": "stderr",
     "output_type": "stream",
     "text": [
      "100%|██████████| 2000/2000 [00:25<00:00, 77.46it/s]\n",
      "100%|██████████| 100/100 [00:00<00:00, 316.34it/s]\n"
     ]
    },
    {
     "name": "stdout",
     "output_type": "stream",
     "text": [
      "running for seed 28\n",
      "running analytical algorithm\n",
      "running analytical algorithm\n",
      "running exaustive algorithm\n"
     ]
    },
    {
     "name": "stderr",
     "output_type": "stream",
     "text": [
      "100%|██████████| 100/100 [00:00<00:00, 3319.04it/s]\n"
     ]
    },
    {
     "name": "stdout",
     "output_type": "stream",
     "text": [
      "running layers algorithm\n"
     ]
    },
    {
     "name": "stderr",
     "output_type": "stream",
     "text": [
      "100%|██████████| 2000/2000 [00:25<00:00, 77.79it/s]\n",
      "100%|██████████| 100/100 [00:00<00:00, 326.06it/s]\n"
     ]
    },
    {
     "name": "stdout",
     "output_type": "stream",
     "text": [
      "running for seed 29\n",
      "running analytical algorithm\n",
      "running analytical algorithm\n",
      "running exaustive algorithm\n"
     ]
    },
    {
     "name": "stderr",
     "output_type": "stream",
     "text": [
      "100%|██████████| 100/100 [00:00<00:00, 3489.55it/s]\n"
     ]
    },
    {
     "name": "stdout",
     "output_type": "stream",
     "text": [
      "running layers algorithm\n"
     ]
    },
    {
     "name": "stderr",
     "output_type": "stream",
     "text": [
      "100%|██████████| 2000/2000 [00:25<00:00, 78.74it/s]\n",
      "100%|██████████| 100/100 [00:00<00:00, 231.88it/s]\n"
     ]
    }
   ],
   "source": [
    "x_lim = 1000\n",
    "y_lim = 500\n",
    "num_circles = 6 + 1\n",
    "\n",
    "source = Coord(50, 250)\n",
    "target = Coord(950, 250)\n",
    "\n",
    "f = open('no_obstacles.csv', \"a\")\n",
    "\n",
    "for i in range(30):\n",
    "    print(f'running for seed {i}')\n",
    "    random.seed(i)\n",
    "\n",
    "    split_lines = list(range(55, 950, int(x_lim / num_circles)))\n",
    "\n",
    "    circles = []\n",
    "    for split1, split2 in zip(split_lines[:-1], split_lines[1:]):\n",
    "        c_x  = (split1 + split2) / 2\n",
    "        c_y = 250 + random.randint(-100, 100)\n",
    "        c_r = random.randint(50, int(0.9 * min([c_x - split1, split2 - c_x, y_lim - c_y, c_y])))\n",
    "        circles.append(Circle(center=Coord(c_x, c_y), radius=c_r))\n",
    "\n",
    "    # for budget in [0, 100, 200, 300, 400, 500, 600, 700, 800, 900, 1000]:\n",
    "    for budget in [1000]:\n",
    "        # *** partition_radius ***\n",
    "        start = time.time()\n",
    "        sum_of_radii = sum([c.radius for c in circles])\n",
    "        alphas = [c.radius / sum_of_radii for c in circles]\n",
    "        path, length, risk = multiple_threats_shortest_path_with_budget_constraint_given_order_and_budgets(source, target, circles, budget=budget, alphas=alphas)\n",
    "        elapsed = time.time() - start\n",
    "        f.write(f'partition_radius,{i},{len(circles)},{budget},{length},{risk},{elapsed},{time.time()}' + '\\n')\n",
    "\n",
    "        # *** partition_st ***\n",
    "        start = time.time()\n",
    "        sum_of_dists = sum([abs(c.center.y - source.y) for c in circles])\n",
    "        alphas = [abs(c.center.y - source.y) / sum_of_dists for c in circles]\n",
    "        path, length, risk = multiple_threats_shortest_path_with_budget_constraint_given_order_and_budgets(source, target, circles, budget, alphas=alphas)\n",
    "        elapsed = time.time() - start\n",
    "        f.write(f'partition_st,{i},{len(circles)},{budget},{length},{risk},{elapsed},{time.time()}' + '\\n')\n",
    "\n",
    "        try:\n",
    "            # *** exhaustive ***\n",
    "            start = time.time()\n",
    "            sum_of_dists = sum([abs(c.center.y - source.y) for c in circles])\n",
    "            alphas = [abs(c.center.y - source.y) / sum_of_dists for c in circles]\n",
    "            path, length, risk = exaustive_layers_multiple_threats_shortest_path_with_budget_constraint(source, target, circles, budget)\n",
    "            elapsed = time.time() - start\n",
    "            f.write(f'exhaustive,{i},{len(circles)},{budget},{length},{risk},{elapsed},{time.time()}' + '\\n')\n",
    "        except:\n",
    "            print(f'failed to do exhaustive with seed {i}')\n",
    "\n",
    "        # *** solver ***\n",
    "        start = time.time()\n",
    "        path, length, risk = rrg_layers_multiple_threats_shortest_path_with_budget_constraint(source, target, circles, budget=budget, obstacles=[])\n",
    "        elapsed = time.time() - start\n",
    "        f.write(f'solver,{i},{len(circles)},{budget},{length},{risk},{elapsed},{time.time()}' + '\\n')\n",
    "\n",
    "f.close()"
   ]
  },
  {
   "cell_type": "code",
   "execution_count": 323,
   "metadata": {
    "ExecuteTime": {
     "end_time": "2023-11-03T08:10:21.591685Z",
     "start_time": "2023-11-03T08:10:21.586805Z"
    },
    "collapsed": false,
    "jupyter": {
     "outputs_hidden": false
    }
   },
   "outputs": [],
   "source": [
    "data = pd.read_csv('no_obstacles.csv', header=0, index_col=False)"
   ]
  },
  {
   "cell_type": "code",
   "execution_count": 324,
   "metadata": {
    "ExecuteTime": {
     "end_time": "2023-11-02T22:01:31.819887Z",
     "start_time": "2023-11-02T22:01:31.814945Z"
    },
    "collapsed": false,
    "jupyter": {
     "outputs_hidden": false
    }
   },
   "outputs": [
    {
     "data": {
      "text/html": [
       "<div>\n",
       "<style scoped>\n",
       "    .dataframe tbody tr th:only-of-type {\n",
       "        vertical-align: middle;\n",
       "    }\n",
       "\n",
       "    .dataframe tbody tr th {\n",
       "        vertical-align: top;\n",
       "    }\n",
       "\n",
       "    .dataframe thead th {\n",
       "        text-align: right;\n",
       "    }\n",
       "</style>\n",
       "<table border=\"1\" class=\"dataframe\">\n",
       "  <thead>\n",
       "    <tr style=\"text-align: right;\">\n",
       "      <th></th>\n",
       "      <th>method</th>\n",
       "      <th>seed</th>\n",
       "      <th>num_circles</th>\n",
       "      <th>budget</th>\n",
       "      <th>length</th>\n",
       "      <th>risk</th>\n",
       "      <th>elapsed</th>\n",
       "      <th>ts</th>\n",
       "    </tr>\n",
       "  </thead>\n",
       "  <tbody>\n",
       "    <tr>\n",
       "      <th>0</th>\n",
       "      <td>partition_radius</td>\n",
       "      <td>0</td>\n",
       "      <td>6</td>\n",
       "      <td>0</td>\n",
       "      <td>944.686082</td>\n",
       "      <td>0.000000</td>\n",
       "      <td>0.876043</td>\n",
       "      <td>1.695851e+09</td>\n",
       "    </tr>\n",
       "    <tr>\n",
       "      <th>1</th>\n",
       "      <td>partition_st</td>\n",
       "      <td>0</td>\n",
       "      <td>6</td>\n",
       "      <td>0</td>\n",
       "      <td>944.686082</td>\n",
       "      <td>0.000000</td>\n",
       "      <td>0.768294</td>\n",
       "      <td>1.695851e+09</td>\n",
       "    </tr>\n",
       "    <tr>\n",
       "      <th>2</th>\n",
       "      <td>exhaustive</td>\n",
       "      <td>0</td>\n",
       "      <td>6</td>\n",
       "      <td>0</td>\n",
       "      <td>972.023539</td>\n",
       "      <td>0.000000</td>\n",
       "      <td>6.871084</td>\n",
       "      <td>1.695851e+09</td>\n",
       "    </tr>\n",
       "    <tr>\n",
       "      <th>3</th>\n",
       "      <td>partition_radius</td>\n",
       "      <td>0</td>\n",
       "      <td>6</td>\n",
       "      <td>100</td>\n",
       "      <td>939.868179</td>\n",
       "      <td>100.000000</td>\n",
       "      <td>0.752304</td>\n",
       "      <td>1.695851e+09</td>\n",
       "    </tr>\n",
       "    <tr>\n",
       "      <th>4</th>\n",
       "      <td>partition_st</td>\n",
       "      <td>0</td>\n",
       "      <td>6</td>\n",
       "      <td>100</td>\n",
       "      <td>939.060827</td>\n",
       "      <td>100.000000</td>\n",
       "      <td>0.844469</td>\n",
       "      <td>1.695851e+09</td>\n",
       "    </tr>\n",
       "    <tr>\n",
       "      <th>...</th>\n",
       "      <td>...</td>\n",
       "      <td>...</td>\n",
       "      <td>...</td>\n",
       "      <td>...</td>\n",
       "      <td>...</td>\n",
       "      <td>...</td>\n",
       "      <td>...</td>\n",
       "      <td>...</td>\n",
       "    </tr>\n",
       "    <tr>\n",
       "      <th>324</th>\n",
       "      <td>solver</td>\n",
       "      <td>28</td>\n",
       "      <td>6</td>\n",
       "      <td>1000</td>\n",
       "      <td>901.517782</td>\n",
       "      <td>184.303039</td>\n",
       "      <td>93.229436</td>\n",
       "      <td>1.698962e+09</td>\n",
       "    </tr>\n",
       "    <tr>\n",
       "      <th>325</th>\n",
       "      <td>partition_radius</td>\n",
       "      <td>29</td>\n",
       "      <td>6</td>\n",
       "      <td>1000</td>\n",
       "      <td>900.070411</td>\n",
       "      <td>1000.000000</td>\n",
       "      <td>0.269571</td>\n",
       "      <td>1.698962e+09</td>\n",
       "    </tr>\n",
       "    <tr>\n",
       "      <th>326</th>\n",
       "      <td>partition_st</td>\n",
       "      <td>29</td>\n",
       "      <td>6</td>\n",
       "      <td>1000</td>\n",
       "      <td>917.608218</td>\n",
       "      <td>1000.000000</td>\n",
       "      <td>0.989446</td>\n",
       "      <td>1.698962e+09</td>\n",
       "    </tr>\n",
       "    <tr>\n",
       "      <th>327</th>\n",
       "      <td>exhaustive</td>\n",
       "      <td>29</td>\n",
       "      <td>6</td>\n",
       "      <td>1000</td>\n",
       "      <td>900.600298</td>\n",
       "      <td>395.784124</td>\n",
       "      <td>11.013624</td>\n",
       "      <td>1.698962e+09</td>\n",
       "    </tr>\n",
       "    <tr>\n",
       "      <th>328</th>\n",
       "      <td>solver</td>\n",
       "      <td>29</td>\n",
       "      <td>6</td>\n",
       "      <td>1000</td>\n",
       "      <td>901.517782</td>\n",
       "      <td>386.256910</td>\n",
       "      <td>93.472403</td>\n",
       "      <td>1.698962e+09</td>\n",
       "    </tr>\n",
       "  </tbody>\n",
       "</table>\n",
       "<p>329 rows × 8 columns</p>\n",
       "</div>"
      ],
      "text/plain": [
       "               method  seed  num_circles  budget      length         risk  \\\n",
       "0    partition_radius     0            6       0  944.686082     0.000000   \n",
       "1        partition_st     0            6       0  944.686082     0.000000   \n",
       "2          exhaustive     0            6       0  972.023539     0.000000   \n",
       "3    partition_radius     0            6     100  939.868179   100.000000   \n",
       "4        partition_st     0            6     100  939.060827   100.000000   \n",
       "..                ...   ...          ...     ...         ...          ...   \n",
       "324            solver    28            6    1000  901.517782   184.303039   \n",
       "325  partition_radius    29            6    1000  900.070411  1000.000000   \n",
       "326      partition_st    29            6    1000  917.608218  1000.000000   \n",
       "327        exhaustive    29            6    1000  900.600298   395.784124   \n",
       "328            solver    29            6    1000  901.517782   386.256910   \n",
       "\n",
       "       elapsed            ts  \n",
       "0     0.876043  1.695851e+09  \n",
       "1     0.768294  1.695851e+09  \n",
       "2     6.871084  1.695851e+09  \n",
       "3     0.752304  1.695851e+09  \n",
       "4     0.844469  1.695851e+09  \n",
       "..         ...           ...  \n",
       "324  93.229436  1.698962e+09  \n",
       "325   0.269571  1.698962e+09  \n",
       "326   0.989446  1.698962e+09  \n",
       "327  11.013624  1.698962e+09  \n",
       "328  93.472403  1.698962e+09  \n",
       "\n",
       "[329 rows x 8 columns]"
      ]
     },
     "execution_count": 324,
     "metadata": {},
     "output_type": "execute_result"
    }
   ],
   "source": [
    "data"
   ]
  },
  {
   "cell_type": "code",
   "execution_count": 325,
   "metadata": {
    "ExecuteTime": {
     "end_time": "2023-11-02T20:36:32.804251Z",
     "start_time": "2023-11-02T20:36:32.801119Z"
    },
    "collapsed": false,
    "jupyter": {
     "outputs_hidden": false
    }
   },
   "outputs": [],
   "source": [
    "data = data[data.budget <= 800]\n",
    "mean_data = data.groupby(['method', 'num_circles', 'budget']).mean().reset_index()\n",
    "# methods = list(set(mean_data['method']))\n",
    "methods = ['solver', 'partition_radius', 'partition_st', 'exhaustive']\n",
    "budgets = sorted(list(set(mean_data['budget'])))\n",
    "linestyles = ['--','-.',':','--']"
   ]
  },
  {
   "cell_type": "code",
   "execution_count": 326,
   "metadata": {
    "ExecuteTime": {
     "end_time": "2023-11-02T20:36:33.075691Z",
     "start_time": "2023-11-02T20:36:33.072516Z"
    },
    "collapsed": false,
    "jupyter": {
     "outputs_hidden": false
    }
   },
   "outputs": [
    {
     "data": {
      "text/plain": [
       "0     946.923022\n",
       "1     921.823462\n",
       "2     917.224491\n",
       "3     912.199675\n",
       "4     909.574780\n",
       "5     903.954764\n",
       "6     901.799804\n",
       "7     900.961500\n",
       "8     900.521746\n",
       "9     900.521746\n",
       "10    900.521746\n",
       "Name: length, dtype: float64"
      ]
     },
     "execution_count": 326,
     "metadata": {},
     "output_type": "execute_result"
    }
   ],
   "source": [
    "cur_df = mean_data.loc[mean_data['method'] == 'exhaustive']\n",
    "cur_df['length']"
   ]
  },
  {
   "cell_type": "code",
   "execution_count": 327,
   "metadata": {
    "ExecuteTime": {
     "end_time": "2023-11-02T21:04:49.759989Z",
     "start_time": "2023-11-02T21:04:49.536869Z"
    },
    "collapsed": false,
    "jupyter": {
     "outputs_hidden": false
    }
   },
   "outputs": [
    {
     "data": {
      "text/plain": [
       "Text(0, 0.5, 'computation time')"
      ]
     },
     "execution_count": 327,
     "metadata": {},
     "output_type": "execute_result"
    },
    {
     "data": {
      "image/png": "[encoded data removed]",
      "text/plain": [
       "<Figure size 600x1200 with 3 Axes>"
      ]
     },
     "metadata": {},
     "output_type": "display_data"
    }
   ],
   "source": [
    "plt.figure(figsize=(6, 12))\n",
    "plt.subplot(3, 1, 1)\n",
    "for i, method in enumerate(methods):\n",
    "    cur_df = mean_data.loc[mean_data['method'] == method]\n",
    "    plt.plot(cur_df['budget'], cur_df['length'], linestyle=linestyles[i], linewidth=2)\n",
    "plt.legend(methods)\n",
    "plt.grid(True)\n",
    "plt.xlabel('budget')\n",
    "plt.ylabel('path length')\n",
    "\n",
    "plt.subplot(3, 1, 2)\n",
    "for i, method in enumerate(methods):\n",
    "    cur_df = mean_data.loc[mean_data['method'] == method]\n",
    "    plt.plot(cur_df['budget'], cur_df['risk'], linestyle=linestyles[i], linewidth=2)\n",
    "plt.legend(methods)\n",
    "plt.grid(True)\n",
    "plt.xlabel('budget')\n",
    "plt.ylabel('path risk')\n",
    "\n",
    "plt.subplot(3, 1, 3)\n",
    "for i, method in enumerate(methods):\n",
    "    cur_df = mean_data.loc[mean_data['method'] == method]\n",
    "    plt.plot(cur_df['budget'], cur_df['elapsed'], linestyle=linestyles[i], linewidth=2)\n",
    "plt.legend(methods)\n",
    "plt.grid(True)\n",
    "plt.xlabel('budget')\n",
    "plt.ylabel('computation time')"
   ]
  },
  {
   "cell_type": "code",
   "execution_count": null,
   "metadata": {
    "collapsed": false,
    "jupyter": {
     "outputs_hidden": false
    }
   },
   "outputs": [],
   "source": []
  },
  {
   "cell_type": "code",
   "execution_count": null,
   "metadata": {},
   "outputs": [],
   "source": []
  }
 ],
 "metadata": {
  "kernelspec": {
   "display_name": "Python 3 (ipykernel)",
   "language": "python",
   "name": "python3"
  },
  "language_info": {
   "codemirror_mode": {
    "name": "ipython",
    "version": 3
   },
   "file_extension": ".py",
   "mimetype": "text/x-python",
   "name": "python",
   "nbconvert_exporter": "python",
   "pygments_lexer": "ipython3",
   "version": "3.9.8"
  }
 },
 "nbformat": 4,
 "nbformat_minor": 4
}
